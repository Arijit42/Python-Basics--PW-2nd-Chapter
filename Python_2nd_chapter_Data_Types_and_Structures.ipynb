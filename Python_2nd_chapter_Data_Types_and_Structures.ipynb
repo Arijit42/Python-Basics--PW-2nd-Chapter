{
  "nbformat": 4,
  "nbformat_minor": 0,
  "metadata": {
    "colab": {
      "provenance": []
    },
    "kernelspec": {
      "name": "python3",
      "display_name": "Python 3"
    },
    "language_info": {
      "name": "python"
    }
  },
  "cells": [
    {
      "cell_type": "markdown",
      "source": [
        "**Data Types and Structures Questions**\n",
        "\n",
        "# **1.What are data structures, and why are they important**\n",
        " -In Python, data structures are fundamental building blocks that help organize and manipulate data efficiently. Examples: String,integer, list, tuple, dictionary, sets.\n",
        "\n",
        "# **2.Explain the difference between mutable and immutable data types with examples**\n",
        "-In Python, mutable and immutable data types differ in whether their elements can be modified or not. ex: String, tuple are immutable, where list, dictionary are mutable.\n",
        "\n",
        "# **3.What are the main differences between lists and tuples in Python**\n",
        "- List is Mutable and suitable for dynamic data collection, tuple is immutable and suitable for fixed colelction of data (e.g password)\n",
        "\n",
        "# **4.Describe how dictionaries store data**\n",
        "-Dictionaries in Python store data as key-value pairs.Keys: Unique and immutable (e.g., str, int, tuple).Values: Can be any data type.\n",
        "\n",
        "# **5.Why might you use a set instead of a list in Python**\n",
        "-Sets automatically remove duplicates, ensuring all elements are unique.\n",
        "\n",
        "# **6.What is a string in Python, and how is it different from a list**\n",
        "-String is sequence of characters within doublequote[\" \"], List is sequence of data types within brackets[ ]\n",
        "\n",
        "# **7.How do tuples ensure data integrity in Python**\n",
        "-Tuples ensure data integrity in Python through their immutability, meaning their content cannot be modified.\n",
        "\n",
        "# **8.What is a hash table, and how does it relate to dictionaries in Python**\n",
        "-A hash table is a data structure that stores data in key-value pairs, using a hashing function to compute an index (hash) for each key. This allows for efficient data retrieval, insertion, and deletion\n",
        "\n",
        "# **9.Can lists contain different data types in Python**\n",
        "-Yes, lists in Python can contain elements of different data types.like,Strings,integer,list, float.\n",
        "\n",
        "# **10.Explain why strings are immutable in Python**\n",
        " -Strings are immutable in Python to ensure security, performance optimization, and hashability\n",
        "\n",
        "# **11.What advantages do dictionaries offer over lists for certain tasks**\n",
        " -Dictionaries offer lookup , by key-value pair.\n",
        "\n",
        "# **12.How do sets handle duplicate values in Python**\n",
        "-set automatically remove duplicate values by storing only unique elements.\n",
        "\n",
        "# **13.Describe a scenario where using a tuple would be preferable over a list**\n",
        "-Storing geographic coordinates for a location\n",
        "\n",
        "# **14.How does the “in” keyword work differently for lists and dictionaries**\n",
        "-In lists, the in keyword checks if a value exists in the sequence, iterating through the list.\n",
        "In dictionaries, it checks for the presence of a key (not values), using efficient hashing for fast lookups.If user wants in both key & value, it also works with change in syntex.\n",
        "\n",
        "# **15.Can you modify the elements of a tuple? Explain why or why not**\n",
        "-No, you cannot modify the elements of a tuple because tuples are immutable in Python\n",
        "\n",
        "# **16.What is a nested dictionary, and give an example of its use case**\n",
        "-A nested dictionary is a dictionary containing another dictionary as a value. Ex: restraurent menu , Dish 1 as key , and Dish details like price, Grade, elements would be listed in a disctionary , which would be consider as Value of the master dictionary.\n",
        "\n",
        "# **17.Describe the time complexity of accessing elements in a dictionary**\n",
        "-n Python, a dictionary stores data using a hash table. When you access an element using a key (my_dict[key]), Python computes a hash value for the key, which quickly points to the correct memory location of the associated value.\n",
        "\n",
        "# **18.In what situations are lists preferred over dictionaries**\n",
        "-Lists are preferred over dictionaries when you need to maintain ordered collections of items, or when you need to access elements by their index. They are also better when the data doesn't require key-value pairing\n",
        "\n",
        "# **19.Why are dictionaries considered unordered, and how does that affect data retrieval**\n",
        "-Dictionaries in Python were historically considered unordered because their elements (key-value pairs) were stored based on their hash values, not in a specific sequence. However, since Python 3.7, dictionaries maintain insertion order.This allow fast lookups, the order of elements doesn't play a role in retrieval.\n",
        "\n",
        "# **20.Explain the difference between a list and a dictionary in terms of data retrieval**\n",
        "-In list, Data is accessed by index (position), which is an integer.\n",
        "In Disctionary,Data is accessed by key, which can be of any immutable type."
      ],
      "metadata": {
        "id": "8F9zE5IbKXM-"
      }
    },
    {
      "cell_type": "code",
      "source": [
        "#  Practical Questions\n",
        "# 1.Write a code to create a string with your name and print it\n",
        "myname=\"Arijit\"\n",
        "print(myname)"
      ],
      "metadata": {
        "colab": {
          "base_uri": "https://localhost:8080/"
        },
        "id": "LGi2I4NBiCgX",
        "outputId": "18ad144f-22bb-40c4-dd33-e0fbe0973a0b"
      },
      "execution_count": 2,
      "outputs": [
        {
          "output_type": "stream",
          "name": "stdout",
          "text": [
            "Arijit\n"
          ]
        }
      ]
    },
    {
      "cell_type": "code",
      "source": [
        "# 2. Write a code to find the length of the string \"Hello World\"\n",
        "length=\"Hello World\"\n",
        "print(len(length))"
      ],
      "metadata": {
        "colab": {
          "base_uri": "https://localhost:8080/"
        },
        "id": "30pm64BciZul",
        "outputId": "991bb534-effd-4e5a-d99d-4a452643e604"
      },
      "execution_count": 3,
      "outputs": [
        {
          "output_type": "stream",
          "name": "stdout",
          "text": [
            "11\n"
          ]
        }
      ]
    },
    {
      "cell_type": "code",
      "source": [
        "# 3.Write a code to slice the first 3 characters from the string \"Python Programming\"\n",
        "mystring=\"Python Programming\"\n",
        "result=mystring[0:3]\n",
        "print(result)"
      ],
      "metadata": {
        "colab": {
          "base_uri": "https://localhost:8080/"
        },
        "id": "a8hgMqH6inck",
        "outputId": "1888a619-bad5-418e-e71e-b314ee67a1fd"
      },
      "execution_count": 10,
      "outputs": [
        {
          "output_type": "stream",
          "name": "stdout",
          "text": [
            "Pyt\n"
          ]
        }
      ]
    },
    {
      "cell_type": "code",
      "source": [
        "# 4. Write a code to convert the string \"hello\" to uppercase\n",
        "mystring=\"hello\"\n",
        "print(mystring.upper())"
      ],
      "metadata": {
        "colab": {
          "base_uri": "https://localhost:8080/"
        },
        "id": "pXih5RV6jRfT",
        "outputId": "877800c3-d22b-43c9-e811-c3e781d1f7b6"
      },
      "execution_count": 11,
      "outputs": [
        {
          "output_type": "stream",
          "name": "stdout",
          "text": [
            "HELLO\n"
          ]
        }
      ]
    },
    {
      "cell_type": "code",
      "source": [
        "# 5.Write a code to replace the word \"apple\" with \"orange\" in the string \"I like apple\"\n",
        "mystring=\"I like apple\"\n",
        "result = mystring.replace(\"apple\", \"orange\")\n",
        "print(result)"
      ],
      "metadata": {
        "colab": {
          "base_uri": "https://localhost:8080/"
        },
        "id": "SiIED99ZjebS",
        "outputId": "bc8556af-ddbd-48f9-b19c-ba0bf0c83648"
      },
      "execution_count": 12,
      "outputs": [
        {
          "output_type": "stream",
          "name": "stdout",
          "text": [
            "I like orange\n"
          ]
        }
      ]
    },
    {
      "cell_type": "code",
      "source": [
        "# 6. Write a code to create a list with numbers 1 to 5 and print it\n",
        "mylist=[1,2,3,4,5]\n",
        "print(mylist)"
      ],
      "metadata": {
        "colab": {
          "base_uri": "https://localhost:8080/"
        },
        "id": "Pu8HVS3OjhfT",
        "outputId": "b0d0d3d0-46c2-458e-f3ab-9c26f5ff5a45"
      },
      "execution_count": 13,
      "outputs": [
        {
          "output_type": "stream",
          "name": "stdout",
          "text": [
            "[1, 2, 3, 4, 5]\n"
          ]
        }
      ]
    },
    {
      "cell_type": "code",
      "source": [
        "# 7.Write a code to append the number 10 to the list [1, 2, 3, 4]\n",
        "mylist=[1, 2, 3, 4]\n",
        "mylist.append(10)\n",
        "print(mylist)"
      ],
      "metadata": {
        "colab": {
          "base_uri": "https://localhost:8080/"
        },
        "id": "EEJ-D-4rjh35",
        "outputId": "7c38eecb-7840-40da-e295-9120d7127b97"
      },
      "execution_count": 14,
      "outputs": [
        {
          "output_type": "stream",
          "name": "stdout",
          "text": [
            "[1, 2, 3, 4, 10]\n"
          ]
        }
      ]
    },
    {
      "cell_type": "code",
      "source": [
        "# 8. Write a code to remove the number 3 from the list [1, 2, 3, 4, 5]\n",
        "mylist=[1, 2, 3, 4, 5]\n",
        "mylist.remove(3)\n",
        "print(mylist)"
      ],
      "metadata": {
        "colab": {
          "base_uri": "https://localhost:8080/"
        },
        "id": "5JhvvWZLjiC6",
        "outputId": "319e1371-d161-47c2-89d0-4055cf63e503"
      },
      "execution_count": 15,
      "outputs": [
        {
          "output_type": "stream",
          "name": "stdout",
          "text": [
            "[1, 2, 4, 5]\n"
          ]
        }
      ]
    },
    {
      "cell_type": "code",
      "source": [
        "# 9. Write a code to access the second element in the list ['a', 'b', 'c', 'd']\n",
        "mylist=['a', 'b', 'c', 'd']\n",
        "print(mylist[1])"
      ],
      "metadata": {
        "colab": {
          "base_uri": "https://localhost:8080/"
        },
        "id": "4Js92FhpjiL5",
        "outputId": "2c2ef893-626d-4fc5-c76c-51e9a5756522"
      },
      "execution_count": 16,
      "outputs": [
        {
          "output_type": "stream",
          "name": "stdout",
          "text": [
            "b\n"
          ]
        }
      ]
    },
    {
      "cell_type": "code",
      "source": [
        "# 10.Write a code to reverse the list [10, 20, 30, 40, 50]\n",
        "list=[10, 20, 30, 40, 50]\n",
        "list.reverse()\n",
        "print(list)\n"
      ],
      "metadata": {
        "colab": {
          "base_uri": "https://localhost:8080/"
        },
        "id": "zKGCPRjljiVB",
        "outputId": "58336fba-55a3-46c8-ecbb-07aa5ea8034d"
      },
      "execution_count": 23,
      "outputs": [
        {
          "output_type": "stream",
          "name": "stdout",
          "text": [
            "[50, 40, 30, 20, 10]\n"
          ]
        }
      ]
    },
    {
      "cell_type": "code",
      "source": [
        "# 11.Write a code to create a tuple with the elements 10, 20, 30 and print it\n",
        "tuple=(10,20,30)\n",
        "print(tuple)"
      ],
      "metadata": {
        "colab": {
          "base_uri": "https://localhost:8080/"
        },
        "id": "nHJu13sTjidp",
        "outputId": "89489246-64aa-4454-bb7b-04cff616babd"
      },
      "execution_count": 24,
      "outputs": [
        {
          "output_type": "stream",
          "name": "stdout",
          "text": [
            "(10, 20, 30)\n"
          ]
        }
      ]
    },
    {
      "cell_type": "code",
      "source": [
        "# 12.Write a code to access the first element of the tuple ('apple', 'banana', 'cherry').\n",
        "\n",
        "tuple=('apple', 'banana', 'cherry')\n",
        "print(tuple[0])"
      ],
      "metadata": {
        "colab": {
          "base_uri": "https://localhost:8080/"
        },
        "id": "nC5tyqxajika",
        "outputId": "b8f9baf6-3ce5-4ac0-80f4-5e1bf3ffa5ff"
      },
      "execution_count": 25,
      "outputs": [
        {
          "output_type": "stream",
          "name": "stdout",
          "text": [
            "apple\n"
          ]
        }
      ]
    },
    {
      "cell_type": "code",
      "source": [
        "# 13.Write a code to count how many times the number 2 appears in the tuple (1, 2, 3, 2, 4, 2).\n",
        "tuple=(1, 2, 3, 2, 4, 2)\n",
        "tuple.count(2)"
      ],
      "metadata": {
        "colab": {
          "base_uri": "https://localhost:8080/"
        },
        "id": "8LvFD6T4jinc",
        "outputId": "6cc080e2-036e-443f-f936-da6cb3a0df15"
      },
      "execution_count": 26,
      "outputs": [
        {
          "output_type": "execute_result",
          "data": {
            "text/plain": [
              "3"
            ]
          },
          "metadata": {},
          "execution_count": 26
        }
      ]
    },
    {
      "cell_type": "code",
      "source": [
        "# 14.Write a code to find the index of the element \"cat\" in the tuple ('dog', 'cat', 'rabbit')\n",
        "tuple=('dog', 'cat', 'rabbit')\n",
        "tuple.index(\"cat\")"
      ],
      "metadata": {
        "colab": {
          "base_uri": "https://localhost:8080/"
        },
        "id": "--dhwx4QjiqZ",
        "outputId": "bf111938-d6bc-4db6-c424-7cee4ea3e341"
      },
      "execution_count": 27,
      "outputs": [
        {
          "output_type": "execute_result",
          "data": {
            "text/plain": [
              "1"
            ]
          },
          "metadata": {},
          "execution_count": 27
        }
      ]
    },
    {
      "cell_type": "code",
      "source": [
        "# 15.Write a code to check if the element \"banana\" is in the tuple ('apple', 'orange', 'banana')\n",
        "tuple=('apple', 'orange', 'banana')\n",
        "if 'banana' in tuple:\n",
        "  print(\"Yes available\")\n",
        "else:\n",
        "  print(\"Not available\")"
      ],
      "metadata": {
        "colab": {
          "base_uri": "https://localhost:8080/"
        },
        "id": "2ksK4wdnjitw",
        "outputId": "91f495f0-e824-487b-e9f3-e75faf75bf75"
      },
      "execution_count": 28,
      "outputs": [
        {
          "output_type": "stream",
          "name": "stdout",
          "text": [
            "Yes available\n"
          ]
        }
      ]
    },
    {
      "cell_type": "code",
      "source": [
        "# 16.. Write a code to create a set with the elements 1, 2, 3, 4, 5 and print it\n",
        "set={1, 2, 3, 4, 5}\n",
        "print(set)"
      ],
      "metadata": {
        "colab": {
          "base_uri": "https://localhost:8080/"
        },
        "id": "4vSeKdOOmtPO",
        "outputId": "5994c335-85bd-4b70-a3d4-9e9596922f2e"
      },
      "execution_count": 29,
      "outputs": [
        {
          "output_type": "stream",
          "name": "stdout",
          "text": [
            "{1, 2, 3, 4, 5}\n"
          ]
        }
      ]
    },
    {
      "cell_type": "code",
      "source": [
        "# 17.Write a code to add the element 6 to the set {1, 2, 3, 4}.\n",
        "set={1, 2, 3, 4}\n",
        "set.add(6)\n",
        "print(set)"
      ],
      "metadata": {
        "colab": {
          "base_uri": "https://localhost:8080/"
        },
        "id": "bopPUetdm8Fl",
        "outputId": "6f39c604-ec8f-4fac-ec31-da62fe0eaa0e"
      },
      "execution_count": 30,
      "outputs": [
        {
          "output_type": "stream",
          "name": "stdout",
          "text": [
            "{1, 2, 3, 4, 6}\n"
          ]
        }
      ]
    },
    {
      "cell_type": "code",
      "source": [
        "# 18.Write a code to create a tuple with the elements 10, 20, 30 and print it.\n",
        "set={10,20,30}\n",
        "print(set)"
      ],
      "metadata": {
        "colab": {
          "base_uri": "https://localhost:8080/"
        },
        "id": "kzWN5fNMm8U2",
        "outputId": "14064549-fe20-45ff-ad57-6e78fa43eef5"
      },
      "execution_count": 32,
      "outputs": [
        {
          "output_type": "stream",
          "name": "stdout",
          "text": [
            "{10, 20, 30}\n"
          ]
        }
      ]
    },
    {
      "cell_type": "code",
      "source": [
        "# 19.Write a code to access the first element of the tuple ('apple', 'banana', 'cherry')\n",
        "tuple=('apple', 'banana', 'cherry')\n",
        "print(tuple[0])"
      ],
      "metadata": {
        "colab": {
          "base_uri": "https://localhost:8080/"
        },
        "id": "4r6geUZlm8lW",
        "outputId": "359f6a97-4984-4556-d88c-ec5c26b70f46"
      },
      "execution_count": 34,
      "outputs": [
        {
          "output_type": "stream",
          "name": "stdout",
          "text": [
            "apple\n"
          ]
        }
      ]
    },
    {
      "cell_type": "code",
      "source": [
        "# 20.Write a code to count how many times the number 2 appears in the tuple (1, 2, 3, 2, 4, 2)\n",
        "tuple=(1, 2, 3, 2, 4, 2)\n",
        "tuple.count(2)"
      ],
      "metadata": {
        "colab": {
          "base_uri": "https://localhost:8080/"
        },
        "id": "5i4ug_yym8wu",
        "outputId": "99bbff66-a273-46c6-e039-6de4b5064087"
      },
      "execution_count": 35,
      "outputs": [
        {
          "output_type": "execute_result",
          "data": {
            "text/plain": [
              "3"
            ]
          },
          "metadata": {},
          "execution_count": 35
        }
      ]
    },
    {
      "cell_type": "code",
      "source": [
        "# 21.Write a code to find the index of the element \"cat\" in the tuple ('dog', 'cat', 'rabbit').\n",
        "tuple=('dog', 'cat', 'rabbit')\n",
        "tuple.index(\"cat\")\n"
      ],
      "metadata": {
        "colab": {
          "base_uri": "https://localhost:8080/"
        },
        "id": "xvbcSJFtw-93",
        "outputId": "86b10e5d-d7e9-4da8-a128-2398516a3e2c"
      },
      "execution_count": 36,
      "outputs": [
        {
          "output_type": "execute_result",
          "data": {
            "text/plain": [
              "1"
            ]
          },
          "metadata": {},
          "execution_count": 36
        }
      ]
    },
    {
      "cell_type": "code",
      "source": [
        "# 22.Write a code to check if the element \"banana\" is in the tuple ('apple', 'orange', 'banana')\n",
        "tuple=('apple', 'orange', 'banana')\n",
        "if 'banana' in tuple:\n",
        "  print(\"Yes available\")\n",
        "else:\n",
        "  print(\"Not available\")"
      ],
      "metadata": {
        "colab": {
          "base_uri": "https://localhost:8080/"
        },
        "id": "APtR_Pguw_Hu",
        "outputId": "af555335-fe99-4e31-b7c5-5969cea71437"
      },
      "execution_count": 37,
      "outputs": [
        {
          "output_type": "stream",
          "name": "stdout",
          "text": [
            "Yes available\n"
          ]
        }
      ]
    },
    {
      "cell_type": "code",
      "source": [
        "# 23.Write a code to create a set with the elements 1, 2, 3, 4, 5 and print it.\n",
        "set={1, 2, 3, 4, 5}\n",
        "print(set)"
      ],
      "metadata": {
        "colab": {
          "base_uri": "https://localhost:8080/"
        },
        "id": "FEaSsIcaw_SI",
        "outputId": "5cc3eae2-c3e7-4669-f825-679868c09c2c"
      },
      "execution_count": 38,
      "outputs": [
        {
          "output_type": "stream",
          "name": "stdout",
          "text": [
            "{1, 2, 3, 4, 5}\n"
          ]
        }
      ]
    },
    {
      "cell_type": "code",
      "source": [
        "# 24. Write a code to add the element 6 to the set {1, 2, 3, 4}\n",
        "set={1, 2, 3, 4}\n",
        "set.add(6)\n",
        "print(set)"
      ],
      "metadata": {
        "colab": {
          "base_uri": "https://localhost:8080/"
        },
        "id": "3G59w11uxVHm",
        "outputId": "e5b3317c-ced9-4cf4-8f2e-6bfd4b3d1922"
      },
      "execution_count": 39,
      "outputs": [
        {
          "output_type": "stream",
          "name": "stdout",
          "text": [
            "{1, 2, 3, 4, 6}\n"
          ]
        }
      ]
    }
  ]
}